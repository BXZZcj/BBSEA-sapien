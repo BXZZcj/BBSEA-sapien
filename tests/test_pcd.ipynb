{
 "cells": [
  {
   "cell_type": "code",
   "execution_count": 1,
   "metadata": {},
   "outputs": [
    {
     "name": "stdout",
     "output_type": "stream",
     "text": [
      "['/home/jiechu/Data/TinyRobotBench/manipulate', '/home/jiechu/Data/TinyRobotBench/manipulate/tests', '/home/jiechu/miniconda3/envs/roboSim/lib/python39.zip', '/home/jiechu/miniconda3/envs/roboSim/lib/python3.9', '/home/jiechu/miniconda3/envs/roboSim/lib/python3.9/lib-dynload', '', '/home/jiechu/miniconda3/envs/roboSim/lib/python3.9/site-packages']\n"
     ]
    }
   ],
   "source": [
    "import sys\n",
    "\n",
    "manipulate_path = '/home/jiechu/Data/TinyRobotBench/manipulate'\n",
    "\n",
    "if manipulate_path not in sys.path:\n",
    "    sys.path.insert(0, manipulate_path)\n",
    "\n",
    "print(sys.path)"
   ]
  },
  {
   "cell_type": "code",
   "execution_count": 2,
   "metadata": {},
   "outputs": [],
   "source": [
    "import sapien.core as sapien\n",
    "from sapien.core import Actor\n",
    "from sapien.utils import Viewer\n",
    "import numpy as np\n",
    "from transforms3d.euler import euler2quat, euler2mat, mat2euler\n",
    "from PIL import Image, ImageColor\n",
    "import matplotlib.pyplot as plt\n",
    "from IPython.display import display"
   ]
  },
  {
   "cell_type": "code",
   "execution_count": 3,
   "metadata": {},
   "outputs": [
    {
     "name": "stdout",
     "output_type": "stream",
     "text": [
      "Jupyter environment detected. Enabling Open3D WebVisualizer.\n",
      "[Open3D INFO] WebRTC GUI backend enabled.\n",
      "[Open3D INFO] WebRTCWindowSystem: HTTP handshake server disabled.\n"
     ]
    }
   ],
   "source": [
    "from utils import *\n",
    "from perception import *\n",
    "from config import *"
   ]
  },
  {
   "cell_type": "code",
   "execution_count": 4,
   "metadata": {},
   "outputs": [
    {
     "name": "stdout",
     "output_type": "stream",
     "text": [
      "Intrinsic matrix\n",
      " [[439.31705   0.      320.     ]\n",
      " [  0.      439.31705 240.     ]\n",
      " [  0.        0.        1.     ]]\n"
     ]
    }
   ],
   "source": [
    "#---------------------------------------------------------\n",
    "# Initialize Basic Scene\n",
    "#---------------------------------------------------------\n",
    "engine = sapien.Engine()\n",
    "renderer = sapien.SapienRenderer()\n",
    "engine.set_renderer(renderer)\n",
    "\n",
    "scene = engine.create_scene()\n",
    "scene.set_timestep(1 / 100.0)\n",
    "\n",
    "scene.add_ground(-1)\n",
    "physical_material = scene.create_physical_material(static_friction=1, dynamic_friction=1, restitution=0.0)\n",
    "scene.default_physical_material = physical_material\n",
    "\n",
    "\n",
    "scene.set_ambient_light(color=[0.5, 0.5, 0.5])\n",
    "scene.add_directional_light(direction=[0, 1, -1], color=[0.5, 0.5, 0.5], shadow=True)\n",
    "scene.add_point_light(position=[1, 2, 2], color=[1, 1, 1], shadow=True)\n",
    "scene.add_point_light(position=[1, -2, 2], color=[1, 1, 1], shadow=True)\n",
    "scene.add_point_light(position=[-1, 0, 1], color=[1, 1, 1], shadow=True)\n",
    "\n",
    "\n",
    "# #---------------------------------------------------------\n",
    "# # Create Tabletop\n",
    "# #---------------------------------------------------------\n",
    "# table top\n",
    "table=create_table(\n",
    "    scene=scene,\n",
    "    pose=sapien.Pose([0.56, 0, 0]),\n",
    "    size=1.0,\n",
    "    height=1,\n",
    "    thickness=0.1,\n",
    "    name=\"table\",\n",
    "    )\n",
    "#objects\n",
    "box = create_box(\n",
    "    scene,\n",
    "    sapien.Pose(p=[0.56, 0, 0.02], q=euler2quat(0, 0, np.pi/2)),\n",
    "    half_size=[0.02, 0.05, 0.02],\n",
    "    color=[1., 0., 0.],\n",
    "    name='box',\n",
    ")\n",
    "sphere = create_sphere(\n",
    "    scene,\n",
    "    sapien.Pose(p=[-0.3+0.56, -0.4, 0.02]),\n",
    "    radius=0.02,\n",
    "    color=[0., 1., 0.],\n",
    "    name='sphere',\n",
    ")\n",
    "capsule = create_capsule(\n",
    "    scene,\n",
    "    sapien.Pose(p=[0.3+0.3, 0.2, 0.02]),\n",
    "    radius=0.02,\n",
    "    half_length=0.03,\n",
    "    color=[0., 0., 1.],\n",
    "    name='capsule',\n",
    ")\n",
    "banana = load_object_mesh(\n",
    "    scene, \n",
    "    sapien.Pose(p=[-0.2+0.56, 0, 0.01865]), \n",
    "    collision_file_path=manipulate_root_path+'assets/object/banana/collision_meshes/collision.obj',\n",
    "    visual_file_path=manipulate_root_path+'assets/object/banana/visual_meshes/visual.dae',\n",
    "    name='banana',\n",
    ")\n",
    "\n",
    "\n",
    "robot_urdf_path=manipulate_root_path+\"assets/robot/panda/panda.urdf\"\n",
    "robot_srdf_path=manipulate_root_path+\"assets/robot/panda/panda.srdf\"\n",
    "move_group=\"panda_hand\"\n",
    "# Robot\n",
    "# Load URDF\n",
    "init_qpos=[0, 0.19634954084936207, 0.0, -2.617993877991494, 0.0, 2.941592653589793, 0.7853981633974483, 0, 0]\n",
    "robot=load_robot(\n",
    "    scene=scene,\n",
    "    pose=sapien.Pose([0, 0, 0], [1, 0, 0, 0]),\n",
    "    init_qpos=init_qpos,\n",
    "    urdf_file_path=robot_urdf_path,\n",
    "    name=\"panda_robot\",\n",
    "    )\n",
    "\n",
    "# scene.remove_articulation(robot)\n",
    "\n",
    "#---------------------------------------------------------\n",
    "# Add a Camera\n",
    "#---------------------------------------------------------\n",
    "near, far = 0.05, 100\n",
    "width, height = 640, 480\n",
    "camera = scene.add_camera(\n",
    "    name=\"camera\",\n",
    "    width=width,\n",
    "    height=height,\n",
    "    fovy=1,\n",
    "    near=near,\n",
    "    far=far,\n",
    ")\n",
    "camera.set_pose(sapien.Pose(p=[1.46, 0, 0.6], q=euler2quat(0, 0.8, np.pi)))\n",
    "\n",
    "print('Intrinsic matrix\\n', camera.get_intrinsic_matrix())\n",
    "\n",
    "scene.step()  # make everything set\n",
    "scene.update_render()\n",
    "camera.take_picture()\n",
    "\n",
    "# ---------------------------------------------------------------------------- #\n",
    "# RGBA\n",
    "# ---------------------------------------------------------------------------- #\n",
    "rgba = camera.get_float_texture('Color')  # [H, W, 4]\n",
    "# An alias is also provided\n",
    "# rgba = camera.get_color_rgba()  # [H, W, 4]\n",
    "rgba_img = (rgba * 255).clip(0, 255).astype(\"uint8\")\n",
    "rgba_pil = Image.fromarray(rgba_img)\n",
    "rgba_pil.save('color.png')\n",
    "\n",
    "\n",
    "# ---------------------------------------------------------------------------- #\n",
    "# Generate Point Cloud\n",
    "# ---------------------------------------------------------------------------- #\n",
    "position = camera.get_float_texture('Position')\n",
    "points_opengl = position[..., :3][position[..., 3] < 1]\n",
    "points_color = rgba[position[..., 3] < 1][..., :3]\n",
    "model_matrix = camera.get_model_matrix()\n",
    "points_world = points_opengl @ model_matrix[:3, :3].T + model_matrix[:3, 3]\n",
    "\n",
    "#---------------------------------------------------------\n",
    "# Hold on the GUI Window\n",
    "#---------------------------------------------------------\n",
    "viewer = Viewer(renderer)\n",
    "viewer.set_scene(scene)\n",
    "# We show how to set the viewer according to the pose of a camera\n",
    "# opengl camera -> sapien world\n",
    "model_matrix = camera.get_model_matrix()\n",
    "# sapien camera -> sapien world\n",
    "# You can also infer it from the camera pose\n",
    "model_matrix = model_matrix[:, [2, 0, 1, 3]] * np.array([-1, -1, 1, 1])\n",
    "# The rotation of the viewer camera is represented as [roll(x), pitch(-y), yaw(-z)]\n",
    "rpy = mat2euler(model_matrix[:3, :3]) * np.array([1, -1, -1])\n",
    "viewer.set_camera_xyz(*model_matrix[0:3, 3])\n",
    "viewer.set_camera_rpy(*rpy)\n",
    "viewer.window.set_camera_parameters(near=0.05, far=100, fovy=1)\n",
    "viewer.toggle_axes(False)\n",
    "\n",
    "# viewer.render()\n",
    "camera.take_picture()\n",
    "rgba = camera.get_float_texture('Color')  # [H, W, 4]\n",
    "# An alias is also provided\n",
    "# rgba = camera.get_color_rgba()  # [H, W, 4]\n",
    "rgba_img = (rgba * 255).clip(0, 255).astype(\"uint8\")\n",
    "rgba_pil = Image.fromarray(rgba_img)\n",
    "rgba_pil.save('color.png')\n",
    "\n",
    "seg_labels = camera.get_uint32_texture('Segmentation')  # [H, W, 4]\n",
    "\n",
    "num_colors = 100\n",
    "color_palette = np.random.randint(0, 256, size=(num_colors, 3), dtype=np.uint8)\n",
    "# colormap = sorted(set(ImageColor.colormap.values()), reverse=True)\n",
    "# color_palette = np.array([ImageColor.getrgb(color) for color in colormap],\n",
    "#                             dtype=np.uint8)\n",
    "label0_image = seg_labels[..., 0].astype(np.uint8)  # mesh-level\n",
    "label1_image = seg_labels[..., 1].astype(np.uint8)  # actor-level\n",
    "# Or you can use aliases below\n",
    "# label0_image = camera.get_visual_segmentation()\n",
    "# label1_image = camera.get_actor_segmentation()\n",
    "label0_pil = Image.fromarray(color_palette[label0_image])\n",
    "label0_pil.save('label0.png')\n",
    "label1_pil = Image.fromarray(color_palette[label1_image])\n",
    "label1_pil.save('label1.png')\n",
    "\n",
    "while not viewer.closed:\n",
    "    scene.update_render()\n",
    "    viewer.render()"
   ]
  },
  {
   "cell_type": "code",
   "execution_count": 6,
   "metadata": {},
   "outputs": [],
   "source": [
    "def get_pcd_from_actor(actor: Actor):\n",
    "    vis_body = actor.get_visual_bodies()[0]\n",
    "    render_shape = vis_body.get_render_shapes()[0]\n",
    "    vertices = np.unique(render_shape.mesh.vertices, axis=0) # deduplicate\n",
    "\n",
    "    actor_type = actor.get_builder().get_visuals()[0].type\n",
    "    if actor_type == \"Box\":\n",
    "        vertices = vertices * actor.get_builder().get_visuals()[0].scale \n",
    "    elif actor_type == \"Sphere\":\n",
    "        vertices = vertices * actor.get_builder().get_visuals()[0].radius\n",
    "    elif actor_type == \"Capsule\" or actor_type == \"File\":\n",
    "        vertices = vertices\n",
    "\n",
    "    tf_mat=actor.get_pose().to_transformation_matrix()\n",
    "    vertices_homo=np.concatenate((vertices, np.ones((vertices.shape[0],1))), axis=-1)\n",
    "    pcd = (tf_mat@vertices_homo.T).T[:,:-1]\n",
    "    \n",
    "    return pcd"
   ]
  },
  {
   "cell_type": "code",
   "execution_count": 5,
   "metadata": {},
   "outputs": [],
   "source": [
    "from perception.scene_graph import SceneGraph, Node\n",
    "scenegraph=SceneGraph()\n",
    "\n",
    "names=get_names_in_scene(scene=scene)[2:]\n",
    "\n",
    "obj_entities=[]\n",
    "for name in names:\n",
    "    obj_entity = get_object_by_name(scene=scene, name=name)\n",
    "    obj_entities.append(obj_entity)\n",
    "    node=Node(obj_entity.name, get_pcd_from_actor(obj_entity))\n",
    "    scenegraph.add_node_wo_state(node)"
   ]
  },
  {
   "cell_type": "code",
   "execution_count": 6,
   "metadata": {},
   "outputs": [
    {
     "name": "stdout",
     "output_type": "stream",
     "text": [
      "  [Nodes]:\n",
      "    box -- position: [0.56, 0.00, 0.02], x_range: [0.51, 0.61], y_range: [-0.02, 0.02], z_range: [-0.00, 0.04]\n",
      "    sphere -- position: [0.26, -0.40, 0.02], x_range: [0.24, 0.28], y_range: [-0.42, -0.38], z_range: [0.00, 0.04]\n",
      "    capsule -- position: [0.60, 0.20, 0.02], x_range: [0.55, 0.65], y_range: [0.18, 0.22], z_range: [-0.00, 0.04]\n",
      "    banana -- position: [0.36, -0.01, 0.02], x_range: [0.26, 0.46], y_range: [-0.05, 0.02], z_range: [0.00, 0.04]\n",
      "  [Edges]:\n",
      "\n"
     ]
    }
   ],
   "source": [
    "print(scenegraph)"
   ]
  },
  {
   "cell_type": "code",
   "execution_count": 20,
   "metadata": {},
   "outputs": [
    {
     "name": "stdout",
     "output_type": "stream",
     "text": [
      "[[ 6.09999591e-01 -1.99994209e-02  3.49144254e-06]\n",
      " [ 6.09999154e-01 -1.99945904e-02  4.00034905e-02]\n",
      " [ 5.09999578e-01 -1.99986222e-02  2.39706028e-06]\n",
      " [ 5.09999140e-01 -1.99937917e-02  4.00023962e-02]\n",
      " [ 6.09999911e-01  2.00005829e-02 -1.33907784e-06]\n",
      " [ 6.09999473e-01  2.00054135e-02  3.99986600e-02]\n",
      " [ 5.09999897e-01  2.00013816e-02 -2.43346009e-06]\n",
      " [ 5.09999460e-01  2.00062122e-02  3.99975656e-02]]\n"
     ]
    }
   ],
   "source": [
    "box_pcd = get_pcd_from_actor(box)\n",
    "print(box_pcd)"
   ]
  },
  {
   "cell_type": "code",
   "execution_count": 25,
   "metadata": {},
   "outputs": [
    {
     "data": {
      "text/plain": [
       "array([0.10000077, 0.04000563])"
      ]
     },
     "execution_count": 25,
     "metadata": {},
     "output_type": "execute_result"
    }
   ],
   "source": [
    "np.max(box_pcd, axis=0)[:2]-np.min(box_pcd, axis=0)[:2]"
   ]
  },
  {
   "cell_type": "code",
   "execution_count": 26,
   "metadata": {},
   "outputs": [
    {
     "data": {
      "text/plain": [
       "0.10770610382668099"
      ]
     },
     "execution_count": 26,
     "metadata": {},
     "output_type": "execute_result"
    }
   ],
   "source": [
    "np.linalg.norm(np.max(box_pcd, axis=0)[:2]-np.min(box_pcd, axis=0)[:2])"
   ]
  }
 ],
 "metadata": {
  "kernelspec": {
   "display_name": "roboSim",
   "language": "python",
   "name": "python3"
  },
  "language_info": {
   "codemirror_mode": {
    "name": "ipython",
    "version": 3
   },
   "file_extension": ".py",
   "mimetype": "text/x-python",
   "name": "python",
   "nbconvert_exporter": "python",
   "pygments_lexer": "ipython3",
   "version": "3.9.19"
  }
 },
 "nbformat": 4,
 "nbformat_minor": 2
}
