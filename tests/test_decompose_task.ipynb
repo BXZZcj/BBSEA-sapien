{
 "cells": [
  {
   "cell_type": "code",
   "execution_count": 1,
   "metadata": {},
   "outputs": [
    {
     "name": "stdout",
     "output_type": "stream",
     "text": [
      "['/home/jiechu/Data/TinyRobotBench/manipulate', '/home/jiechu/Data/TinyRobotBench/manipulate/tests', '/home/jiechu/miniconda3/envs/roboSim/lib/python39.zip', '/home/jiechu/miniconda3/envs/roboSim/lib/python3.9', '/home/jiechu/miniconda3/envs/roboSim/lib/python3.9/lib-dynload', '', '/home/jiechu/miniconda3/envs/roboSim/lib/python3.9/site-packages']\n"
     ]
    }
   ],
   "source": [
    "import sys\n",
    "manipulate_path = '/home/jiechu/Data/TinyRobotBench/manipulate'\n",
    "if manipulate_path not in sys.path:\n",
    "    sys.path.insert(0, manipulate_path)\n",
    "print(sys.path)\n",
    "\n",
    "import numpy as np\n",
    "import os\n",
    "import re\n",
    "from openai import OpenAI\n",
    "from config.core import prompts_path, gpt_api_key, gpt_base_url"
   ]
  },
  {
   "cell_type": "code",
   "execution_count": 2,
   "metadata": {},
   "outputs": [],
   "source": [
    "response1=\"\"\"==========================\n",
    "- Stack the red block on top of the green bowl\n",
    "- Align the green bowl with the edge of the table\n",
    "- Gather the red block and the green bowl to one side of the table\n",
    "- Sort the objects on the table by color\n",
    "- Move the red block to the center of the table\n",
    "==========================\n",
    "The task is to put the red block in the green bowl. Since both the red block and the green bowl are on the table, we can use the Pick and PlaceOn primitive actions to accomplish this task.\n",
    "\n",
    "Subtasks:\n",
    "1. Pick up the red block\n",
    "2. Place the red block in the green bowl\n",
    "\n",
    "Corresponding primitive actions:\n",
    "1. Pick('red block')\n",
    "2. PlaceOn('green bowl')\n",
    "==========================\n",
    "The red block is in the green bowl.\n",
    "reasoning: \n",
    "answer:\"\"\""
   ]
  },
  {
   "cell_type": "code",
   "execution_count": 3,
   "metadata": {},
   "outputs": [],
   "source": [
    "response2=\"\"\"==========================\n",
    "- Stack the red block on top of the green bowl\n",
    "- Align the red block with the edge of the table\n",
    "- Gather the red block and the green bowl together\n",
    "- Sort the objects on the table by color\n",
    "- Move the green bowl to the center of the table\n",
    "==========================\n",
    "The task is to put the red block in the green bowl. The red block is currently on top of the table, and the green bowl is also on top of the table. The task can be decomposed into the following subtasks:\n",
    "\n",
    "1. Pick the red block from its current position on the table.\n",
    "2. Place the red block inside the green bowl.\n",
    "3. \n",
    "\n",
    "The subtasks can be accomplished using the following primitive actions:\n",
    "\n",
    "1. Pick('red block')\n",
    "2. PlaceIn('red block', 'green bowl')\n",
    "3. [additional subtask needed]\n",
    "==========================\n",
    "The red block is in the green bowl.\n",
    "reasoning: \n",
    "answer:\"\"\""
   ]
  },
  {
   "cell_type": "code",
   "execution_count": null,
   "metadata": {},
   "outputs": [],
   "source": [
    "response3=\"\"\"==========================\n",
    "- Stack the red block on top of the green bowl\n",
    "- Align the red block with the green bowl\n",
    "- Move the green bowl to a different position on the table\n",
    "- Gather the red block and the green bowl to one side of the table\n",
    "- Sort the objects on the table by color\n",
    "- Place the red block at a specific position on the table\n",
    "- Push the green bowl in a specific direction on the table\n",
    "==========================\n",
    "The task is to put the red block in the green bowl. The red block and the green bowl are both on top of the table. The task can be decomposed into the following subtasks:\n",
    "\n",
    "1. Pick up the red block from the table.\n",
    "2. Place the red block inside the green bowl.\n",
    "\n",
    "The corresponding primitive actions would be:\n",
    "\n",
    "1. Pick('red block')\n",
    "2. PlaceIn('green bowl')\n",
    "==========================\n",
    "The red block is in the green bowl.\n",
    "reasoning: \n",
    "answer:\"\"\""
   ]
  },
  {
   "cell_type": "code",
   "execution_count": null,
   "metadata": {},
   "outputs": [],
   "source": [
    "response4=\"\"\"==========================\n",
    "- Stack the red block on top of the green bowl\n",
    "- Align the red block with the edge of the table\n",
    "- Gather the red block and the green bowl together\n",
    "- Sort the objects on the table by color\n",
    "- Move the green bowl to the center of the table\n",
    "==========================\n",
    "The task is to put the red block in the green bowl. The red block and the green bowl are both on top of the table. The task can be decomposed into the following subtasks:\n",
    "\n",
    "1. Pick up the red block from the table.\n",
    "2. Place the red block inside the green bowl.\n",
    "3. Verify that the red block is inside the green bowl.\n",
    "\n",
    "The corresponding primitive actions would be:\n",
    "\n",
    "1. Pick('red block')\n",
    "2. PlaceIn('red block', 'green bowl')\n",
    "3. Verify('red block', 'green bowl')\n",
    "==========================\n",
    "The red block is in the green bowl.\n",
    "reasoning: \n",
    "answer:\"\"\""
   ]
  },
  {
   "cell_type": "code",
   "execution_count": null,
   "metadata": {},
   "outputs": [],
   "source": [
    "response5=\"\"\"==========================\n",
    "- Stack the red block on top of the green bowl\n",
    "- Align the red block with the edge of the table\n",
    "- Gather the red block and the green bowl together\n",
    "- Sort the objects on the table by color\n",
    "- Move the green bowl to the center of the table\n",
    "==========================\n",
    "The task is to put the red block in the green bowl. The red block and the green bowl are both on top of the table. \n",
    "\n",
    "1. Pick the red block from the table.\n",
    "2. Place the red block on the green bowl. \n",
    "\n",
    "The subtasks can be decomposed as follows:\n",
    "- 1. Pick the red block | [Pick('red block')]\n",
    "- 2. Place the red block on the green bowl | [PlaceOn('green bowl')]\n",
    "==========================\n",
    "The red block is in the green bowl.\n",
    "reasoning: \n",
    "answer:\"\"\""
   ]
  },
  {
   "cell_type": "code",
   "execution_count": 19,
   "metadata": {},
   "outputs": [],
   "source": [
    "def test_decompose_task_format(response):\n",
    "    subtask_list = []\n",
    "    primitive_action_list = []\n",
    "    primitive_action_str_list = []\n",
    "    reasoning = response.split(\"\\nanswer:\\n\")[0]\n",
    "\n",
    "    if ' no.' in response:\n",
    "        return subtask_list, primitive_action_str_list, primitive_action_list, reasoning\n",
    "    steps = response.split(\"\\nanswer:\\n\")[-1].split(\"\\n\")  # str list\n",
    "    for step in steps:\n",
    "        primitive_actions = []\n",
    "        subtask = ''\n",
    "        try:\n",
    "            subtask = step.split('|')[0].split('.')[1]\n",
    "            action = step.split('|')[1]\n",
    "        \n",
    "            match = re.search(r'\\[(.*)\\]', action)\n",
    "            if match:\n",
    "                primitive_action_str = match.group(1)\n",
    "                primitive_action_str_list.append(primitive_action_str)\n",
    "                \n",
    "                for item in primitive_action_str.split(';'):\n",
    "                    obj = eval(item) \n",
    "                    primitive_actions.append(obj)\n",
    "            else:\n",
    "                # import pdb;pdb.set_trace()\n",
    "                return subtask_list, primitive_action_str_list, primitive_action_list, reasoning\n",
    "        except:\n",
    "            try:\n",
    "                subtask = step.split(':')[0].split('.')[1]\n",
    "                action = step.split(':')[1]\n",
    "                # match = re.search(r'\\[(.*)\\]', step)\n",
    "\n",
    "                match = re.search(r'\\[(.*)\\]', action)\n",
    "                if match:\n",
    "                    primitive_action_str = match.group(1)\n",
    "                    primitive_action_str_list.append(primitive_action_str)\n",
    "\n",
    "                    for item in primitive_action_str.split(';'):\n",
    "                        obj = eval(item) \n",
    "                        primitive_actions.append(obj)\n",
    "                else:\n",
    "                    # import pdb;pdb.set_trace()\n",
    "                    return subtask_list, primitive_action_str_list, primitive_action_list, reasoning\n",
    "            except:\n",
    "                print(\"step\", step)\n",
    "            # import pdb;pdb.set_trace()\n",
    "        subtask_list.append(subtask)\n",
    "        primitive_action_list.append(primitive_actions)\n",
    "    # is_first_time = False\n",
    "    return subtask_list, primitive_action_str_list, primitive_action_list, reasoning"
   ]
  },
  {
   "cell_type": "code",
   "execution_count": 20,
   "metadata": {},
   "outputs": [
    {
     "name": "stdout",
     "output_type": "stream",
     "text": [
      "step To gather all the objects within the x_range of 0.26 to 0.36, we can use the Pick and PlaceAt primitive actions to move each object to a specified position within the range. \n",
      "step \n"
     ]
    }
   ],
   "source": [
    "subtask_list, primitive_action_str_list, primitive_action_list, reasoning=test_decompose_task_format(response1)"
   ]
  },
  {
   "cell_type": "code",
   "execution_count": 21,
   "metadata": {},
   "outputs": [
    {
     "data": {
      "text/plain": [
       "[]"
      ]
     },
     "execution_count": 21,
     "metadata": {},
     "output_type": "execute_result"
    }
   ],
   "source": [
    "primitive_action_str_list"
   ]
  }
 ],
 "metadata": {
  "kernelspec": {
   "display_name": "roboSim",
   "language": "python",
   "name": "python3"
  },
  "language_info": {
   "codemirror_mode": {
    "name": "ipython",
    "version": 3
   },
   "file_extension": ".py",
   "mimetype": "text/x-python",
   "name": "python",
   "nbconvert_exporter": "python",
   "pygments_lexer": "ipython3",
   "version": "3.9.19"
  }
 },
 "nbformat": 4,
 "nbformat_minor": 2
}
