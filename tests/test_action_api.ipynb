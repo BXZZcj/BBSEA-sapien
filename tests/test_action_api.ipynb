{
 "cells": [
  {
   "cell_type": "code",
   "execution_count": 1,
   "metadata": {},
   "outputs": [
    {
     "name": "stdout",
     "output_type": "stream",
     "text": [
      "['/home/jiechu/Data/TinyRobotBench/manipulate', '/home/jiechu/Data/TinyRobotBench/manipulate/tests', '/home/jiechu/miniconda3/envs/roboSim/lib/python39.zip', '/home/jiechu/miniconda3/envs/roboSim/lib/python3.9', '/home/jiechu/miniconda3/envs/roboSim/lib/python3.9/lib-dynload', '', '/home/jiechu/miniconda3/envs/roboSim/lib/python3.9/site-packages']\n"
     ]
    }
   ],
   "source": [
    "import sys\n",
    "\n",
    "manipulate_path = '/home/jiechu/Data/TinyRobotBench/manipulate'\n",
    "\n",
    "if manipulate_path not in sys.path:\n",
    "    sys.path.insert(0, manipulate_path)\n",
    "\n",
    "print(sys.path)"
   ]
  },
  {
   "cell_type": "code",
   "execution_count": 3,
   "metadata": {},
   "outputs": [],
   "source": [
    "import sys\n",
    "\n",
    "from scene import SimplePickPlaceScene"
   ]
  },
  {
   "cell_type": "code",
   "execution_count": 6,
   "metadata": {},
   "outputs": [
    {
     "name": "stderr",
     "output_type": "stream",
     "text": [
      "[2024-07-16 23:50:39.816] [SAPIEN] [warning] A second engine will share the same internal structures with the first one. Arguments passed to constructor will be ignored.\n",
      "[2024-07-16 23:50:39.816] [svulkan2] [warning] A second renderer will share the same internal context with the first one. Arguments passed to constructor will be ignored.\n",
      "[2024-07-16 23:50:39.816] [SAPIEN] [warning] Setting renderer more than once should be avoided.\n"
     ]
    }
   ],
   "source": [
    "demo=SimplePickPlaceScene()\n",
    "demo.scene.step() \n",
    "demo.scene.update_render()\n",
    "\n",
    "while not demo.viewer.closed:\n",
    "    # demo.scene.step() \n",
    "    demo.scene.update_render()\n",
    "    demo.viewer.render()\n",
    "    # plan()\n",
    "    # demo.push_tool.execute(\"box\", [1,2,3], 2)"
   ]
  },
  {
   "cell_type": "code",
   "execution_count": 35,
   "metadata": {},
   "outputs": [],
   "source": [
    "radius=demo.capsule.get_builder().get_collisions()[0].radius\n",
    "half_len=demo.capsule.get_builder().get_collisions()[0].length"
   ]
  },
  {
   "cell_type": "code",
   "execution_count": 38,
   "metadata": {},
   "outputs": [
    {
     "data": {
      "text/plain": [
       "'box'"
      ]
     },
     "execution_count": 38,
     "metadata": {},
     "output_type": "execute_result"
    }
   ],
   "source": [
    "demo.box.get_name()"
   ]
  }
 ],
 "metadata": {
  "kernelspec": {
   "display_name": "roboSim",
   "language": "python",
   "name": "python3"
  },
  "language_info": {
   "codemirror_mode": {
    "name": "ipython",
    "version": 3
   },
   "file_extension": ".py",
   "mimetype": "text/x-python",
   "name": "python",
   "nbconvert_exporter": "python",
   "pygments_lexer": "ipython3",
   "version": "3.9.19"
  }
 },
 "nbformat": 4,
 "nbformat_minor": 2
}
